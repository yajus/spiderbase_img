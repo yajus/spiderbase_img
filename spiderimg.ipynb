{
 "cells": [
  {
   "cell_type": "code",
   "execution_count": 2,
   "metadata": {},
   "outputs": [],
   "source": [
    "from bs4 import BeautifulSoup as bs\n",
    "import requests\n",
    "\n",
    "url=\"http://www.ngchina.com.cn/animals/\""
   ]
  },
  {
   "cell_type": "code",
   "execution_count": 3,
   "metadata": {},
   "outputs": [],
   "source": [
    "html=requests.get(url).text"
   ]
  },
  {
   "cell_type": "code",
   "execution_count": 4,
   "metadata": {},
   "outputs": [],
   "source": [
    "soup=bs(html,'lxml')\n",
    "img_url=soup.find_all('ul',{\"class\":\"img_list\"})"
   ]
  },
  {
   "cell_type": "code",
   "execution_count": 5,
   "metadata": {},
   "outputs": [
    {
     "name": "stdout",
     "output_type": "stream",
     "text": [
      "[<ul class=\"img_list\">\n",
      "<li class=\"mod_w\">\n",
      "<div class=\"imgs cf\">\n",
      "<a href=\"/animals/facts/8925.html\"><img src=\"http://image.ngchina.com.cn/2018/1126/20181126115552381.jpg\"/></a>\n",
      "</div>\n",
      "</li>\n",
      "<li class=\"mod_w\">\n",
      "<div class=\"imgs cf\">\n",
      "<a href=\"/animals/facts/8919.html\"><img src=\"http://image.ngchina.com.cn/2018/1121/20181121122540273.jpg\"/></a>\n",
      "</div>\n",
      "</li>\n",
      "<li class=\"mod_w\">\n",
      "<div class=\"imgs cf\">\n",
      "<a href=\"/animals/facts/8911.html\"><img src=\"http://image.ngchina.com.cn/2018/1114/20181114043840168.jpg\"/></a>\n",
      "</div>\n",
      "</li>\n",
      "</ul>, <ul class=\"img_list\">\n",
      "<li class=\"mod_w\">\n",
      "<div class=\"imgs cf\">\n",
      "<a href=\"/animals/facts/8901.html\"><img src=\"http://image.ngchina.com.cn/2018/1105/20181105025539322.jpg\"/></a>\n",
      "</div>\n",
      "</li>\n",
      "<li class=\"mod_w\">\n",
      "<div class=\"imgs cf\">\n",
      "<a href=\"/animals/facts/8894.html\"><img src=\"http://image.ngchina.com.cn/2018/1029/20181029110713949.jpg\"/></a>\n",
      "</div>\n",
      "</li>\n",
      "<li class=\"mod_w\">\n",
      "<div class=\"imgs cf\">\n",
      "<a href=\"/animals/facts/8888.html\"><img src=\"http://image.ngchina.com.cn/2018/1024/20181024034038271.jpg\"/></a>\n",
      "</div>\n",
      "</li>\n",
      "</ul>]\n"
     ]
    }
   ],
   "source": [
    "print(img_url)"
   ]
  },
  {
   "cell_type": "code",
   "execution_count": 8,
   "metadata": {},
   "outputs": [
    {
     "name": "stdout",
     "output_type": "stream",
     "text": [
      "save 20181126115552381.jpg\n",
      "save 20181121122540273.jpg\n",
      "save 20181114043840168.jpg\n",
      "save 20181105025539322.jpg\n",
      "save 20181029110713949.jpg\n",
      "save 20181024034038271.jpg\n"
     ]
    }
   ],
   "source": [
    "for i in img_url:\n",
    "    imgs=i.find_all('img')\n",
    "    for img in imgs:\n",
    "        url=img['src']\n",
    "        r=requests.get(url,stream=True)\n",
    "        img_name=url.split('/')[-1]\n",
    "        with open('./Downloads/img/%s'%img_name,'wb') as f:\n",
    "            for chunk in r.iter_content(chunk_size=128):\n",
    "                f.write(chunk)\n",
    "        print('save %s'%img_name)"
   ]
  },
  {
   "cell_type": "code",
   "execution_count": null,
   "metadata": {},
   "outputs": [],
   "source": []
  }
 ],
 "metadata": {
  "kernelspec": {
   "display_name": "Python 3",
   "language": "python",
   "name": "python3"
  }
 },
 "nbformat": 4,
 "nbformat_minor": 2
}
